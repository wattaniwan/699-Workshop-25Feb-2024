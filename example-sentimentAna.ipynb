{
 "cells": [
  {
   "cell_type": "code",
   "execution_count": null,
   "id": "4a5b6796-2c8c-4cce-95b0-f0e266d2b685",
   "metadata": {},
   "outputs": [],
   "source": [
    "from googletrans import Translator\n",
    "from textblob import TextBlob\n",
    "\n",
    "def translate_text(text, src_lang='th', dest_lang='en'):\n",
    "    translator = Translator()\n",
    "    translated = translator.translate(text, src=src_lang, dest=dest_lang)\n",
    "    return translated.text\n",
    "\n",
    "def analyze_sentiment(text):\n",
    "    blob = TextBlob(text)\n",
    "    sentiment_score = blob.sentiment.polarity\n",
    "    if sentiment_score > 0:\n",
    "        return \"Positive\"\n",
    "    elif sentiment_score < 0:\n",
    "        return \"Negative\"\n",
    "    else:\n",
    "        return \"Neutral\"\n",
    "\n",
    "# Example Thai text\n",
    "thai_text = \"ดีมาก\"\n",
    "\n",
    "# Translate Thai text to English\n",
    "english_text = translate_text(thai_text)\n",
    "print(\"Translated Text:\", english_text)\n",
    "\n",
    "# Analyze sentiment of the translated text\n",
    "sentiment = analyze_sentiment(english_text)\n",
    "print(\"Sentiment:\", sentiment)"
   ]
  },
  {
   "cell_type": "code",
   "execution_count": null,
   "id": "aa9af078-6277-451c-b2a2-3a69d6e4c9e6",
   "metadata": {},
   "outputs": [],
   "source": [
    "%%writefile mysentimentxxx.py\n",
    "from googletrans import Translator\n",
    "from textblob import TextBlob\n",
    "\n",
    "def translate_text(text, src_lang='th', dest_lang='en'):\n",
    "    translator = Translator()\n",
    "    translated = translator.translate(text, src=src_lang, dest=dest_lang)\n",
    "    return translated.text\n",
    "\n",
    "def analyze_sentiment(text):\n",
    "    blob = TextBlob(text)\n",
    "    sentiment_score = blob.sentiment.polarity\n",
    "    if sentiment_score > 0:\n",
    "        return \"Positive\"\n",
    "    elif sentiment_score < 0:\n",
    "        return \"Negative\"\n",
    "    else:\n",
    "        return \"Neutral\""
   ]
  }
 ],
 "metadata": {
  "kernelspec": {
   "display_name": "Python 3 (ipykernel)",
   "language": "python",
   "name": "python3"
  },
  "language_info": {
   "codemirror_mode": {
    "name": "ipython",
    "version": 3
   },
   "file_extension": ".py",
   "mimetype": "text/x-python",
   "name": "python",
   "nbconvert_exporter": "python",
   "pygments_lexer": "ipython3",
   "version": "3.10.11"
  }
 },
 "nbformat": 4,
 "nbformat_minor": 5
}
